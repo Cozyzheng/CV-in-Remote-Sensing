{
 "metadata": {
  "language_info": {
   "codemirror_mode": {
    "name": "ipython",
    "version": 3
   },
   "file_extension": ".py",
   "mimetype": "text/x-python",
   "name": "python",
   "nbconvert_exporter": "python",
   "pygments_lexer": "ipython3",
   "version": 3
  },
  "orig_nbformat": 2,
  "kernelspec": {
   "name": "python_defaultSpec_1597990731506",
   "display_name": "Python 3.8.3 64-bit (conda)"
  }
 },
 "nbformat": 4,
 "nbformat_minor": 2,
 "cells": [
  {
   "cell_type": "code",
   "execution_count": 30,
   "metadata": {},
   "outputs": [],
   "source": [
    "import os\n",
    "import gdal\n",
    "import cv2  as cv\n",
    "import numpy as np\n",
    "import sys \n",
    "import matplotlib.pyplot as plt"
   ]
  },
  {
   "cell_type": "code",
   "execution_count": null,
   "metadata": {},
   "outputs": [],
   "source": []
  },
  {
   "cell_type": "code",
   "execution_count": 42,
   "metadata": {
    "tags": []
   },
   "outputs": [
    {
     "output_type": "stream",
     "name": "stdout",
     "text": "D:\\深度学习\\高分辨率数据\\BDCI2017-jiage-Semi\\training-训练数据\n(5142, 5664)\n"
    }
   ],
   "source": [
    "os.chdir(r\"D:\\深度学习\\高分辨率数据\\BDCI2017-jiage-Semi\\training-训练数据\")\n",
    "print(os.getcwd())\n",
    "\n",
    "# 读数据\n",
    "img = cv.imread(\"train1.png\", 0)\n",
    "print(img.shape)\n",
    "\n",
    "cv.imshow('image', img)\n",
    "cv.waitKey(0)\n",
    "cv.destroyAllWindows()\n",
    "\n",
    "# k = cv.waitKey(0)\n",
    "# if k == 27:\n",
    "#     cv.destroyAllWindows()\n",
    "# elif k == ord('s'):\n",
    "#     cv.imwrite('123_gray.png', img)\n",
    "#     cv.destroyAllWindows()\n",
    "\n",
    "# plt.imshow(img, cmap = 'gray', interpolation = 'bicubic')\n"
   ]
  },
  {
   "cell_type": "code",
   "execution_count": 64,
   "metadata": {
    "tags": []
   },
   "outputs": [
    {
     "output_type": "stream",
     "name": "stdout",
     "text": "(1, 1, 1)\n300.0\n"
    },
    {
     "output_type": "execute_result",
     "data": {
      "text/plain": "array([[[300.]]])"
     },
     "metadata": {},
     "execution_count": 64
    }
   ],
   "source": [
    "# 16位数据转换为8位数据\n",
    "def unit16to8(images, lower_percent = 0.001, higher_percent = 99.999):\n",
    "    out = np.zeros_like(images, dtype= np.uint8)\n",
    "    n = images.shape[0]\n",
    "    for i in range(n):\n",
    "        min = 0\n",
    "        max = 255\n",
    "        image_low = np.percentile(images[i, :,:], lower_percent)\n",
    "        image_high = np.percentile(images[i, :, :], higher_percent)\n",
    "\n",
    "        # 线性放缩\n",
    "        image_bands = (max - min) * (images[i, :, :] - image_low)/(image_high - image_low)\n",
    "        out[i, :, :] =image_bands\n",
    "\n",
    "    return out \n",
    "\n",
    "\n",
    "a = np.zeros((1,1,1))\n",
    "a += 300\n",
    "print(a.shape)\n",
    "print(a.max())\n",
    "b = unit16to8(a)\n",
    "b.max()"
   ]
  }
 ]
}