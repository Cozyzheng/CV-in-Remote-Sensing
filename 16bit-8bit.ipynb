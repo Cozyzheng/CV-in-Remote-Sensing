{
 "metadata": {
  "language_info": {
   "codemirror_mode": {
    "name": "ipython",
    "version": 3
   },
   "file_extension": ".py",
   "mimetype": "text/x-python",
   "name": "python",
   "nbconvert_exporter": "python",
   "pygments_lexer": "ipython3",
   "version": 3
  },
  "orig_nbformat": 2,
  "kernelspec": {
   "name": "python_defaultSpec_1598010950798",
   "display_name": "Python 3.8.3 64-bit (conda)"
  }
 },
 "nbformat": 4,
 "nbformat_minor": 2,
 "cells": [
  {
   "cell_type": "code",
   "execution_count": 2,
   "metadata": {},
   "outputs": [],
   "source": [
    "import os\n",
    "import gdal\n",
    "import cv2\n",
    "import numpy as np\n",
    "import sys\n",
    "\n",
    "#拉伸图像  #图片的16位转8位\n",
    "def uint16to8(bands, lower_percent=0.001, higher_percent=99.999): \n",
    "    out = np.zeros_like(bands,dtype = np.uint8)\n",
    "    n = bands.shape[0] \n",
    "    for i in range(n): \n",
    "        a = 0 # np.min(band) \n",
    "        b = 255 # np.max(band) \n",
    "        c = np.percentile(bands[i, :, :], lower_percent) \n",
    "        d = np.percentile(bands[i, :, :], higher_percent) \n",
    "        t = a + (bands[i, :, :] - c) * (b - a) / (d - c) \n",
    "        t[t<a] = a\n",
    "        t[t>b] = b\n",
    "        out[i, :, :] = t \n",
    "    return out \n",
    "    \n",
    "path = sys.path[0] #获取当前代码路径\n",
    "tif_list = [x for x in os.listdir(path) if x.endswith(\".tif\")]\n",
    "for num, i in enumerate(tif_list):\n",
    "    print(path+'\\\\'+i)\n",
    "    dataset = gdal.Open(path+'\\\\'+i)\n",
    "    width = dataset.RasterXSize                         # 获取数据宽度\n",
    "    height = dataset.RasterYSize                        # 获取数据高度\n",
    "    outbandsize = dataset.RasterCount                   # 获取数据波段数\n",
    "    im_geotrans = dataset.GetGeoTransform()             # 获取仿射矩阵信息\n",
    "    im_proj = dataset.GetProjection()                   # 获取投影信息\n",
    "    datatype = dataset.GetRasterBand(1).DataType\n",
    "    im_data = dataset.ReadAsArray()                     #获取数据 \n",
    "    # print(im_data.shape)\n",
    "    img3 = uint16to8(im_data)\n",
    "    img2 = img3[0:3,:,:]\n",
    "    img2 = np.transpose(img2,(1,2,0))\n",
    "    out = img2[:,:,::-1] #rgb->bgr\n",
    "    cv2.imwrite(path+'\\\\'+i, out)\n",
    "    print(num)"
   ]
  },
  {
   "cell_type": "code",
   "execution_count": null,
   "metadata": {},
   "outputs": [],
   "source": []
  }
 ]
}