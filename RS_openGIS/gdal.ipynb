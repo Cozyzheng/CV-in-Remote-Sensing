{
 "cells": [
  {
   "cell_type": "code",
   "execution_count": 1,
   "metadata": {},
   "outputs": [],
   "source": [
    "# 导入gdal\n",
    "from osgeo import gdal \n",
    "\n",
    "# gdal中的一些常量的绑定\n",
    "from osgeo import gdalconst"
   ]
  },
  {
   "cell_type": "markdown",
   "metadata": {},
   "source": [
    "### 载入读取数据驱动"
   ]
  },
  {
   "cell_type": "code",
   "execution_count": 21,
   "metadata": {
    "tags": [
     "outputPrepend"
    ]
   },
   "outputs": [
    {
     "output_type": "stream",
     "name": "stdout",
     "text": "0 :   VRT   ,  Virtual Raster\n1 :   DERIVED   ,  Derived datasets using VRT pixel functions\n2 :   GTiff   ,  GeoTIFF\n3 :   NITF   ,  National Imagery Transmission Format\n4 :   RPFTOC   ,  Raster Product Format TOC format\n5 :   ECRGTOC   ,  ECRG TOC format\n6 :   HFA   ,  Erdas Imagine Images (.img)\n7 :   SAR_CEOS   ,  CEOS SAR Image\n8 :   CEOS   ,  CEOS Image\n9 :   JAXAPALSAR   ,  JAXA PALSAR Product Reader (Level 1.1/1.5)\n"
    }
   ],
   "source": [
    "# 载入所有数据驱动，只读不能写\n",
    "gdal.AllRegister()\n",
    "\n",
    "# 载入某个数据驱动，可读可写\n",
    "drive = gdal.GetDriverByName('GTiff')\n",
    "drive.Register()\n",
    "\n",
    "# 获得所有的driver\n",
    "drv_count = gdal.GetDriverCount() \n",
    "for idx in range(10):\n",
    "    drive = gdal.GetDriver(idx)\n",
    "    print('{} :   {}   ,  {}'.format(drive.Register(), drive.ShortName, drive.LongName))"
   ]
  },
  {
   "cell_type": "markdown",
   "metadata": {},
   "source": [
    "### 打开tif文件"
   ]
  },
  {
   "cell_type": "code",
   "execution_count": 23,
   "metadata": {},
   "outputs": [
    {
     "output_type": "execute_result",
     "data": {
      "text/plain": "{'TIFFTAG_DATETIME': '2003:02:26 21:38:01',\n 'TIFFTAG_RESOLUTIONUNIT': '2 (pixels/inch)',\n 'TIFFTAG_SOFTWARE': 'Adobe Photoshop 7.0',\n 'TIFFTAG_XRESOLUTION': '96.012001',\n 'TIFFTAG_YRESOLUTION': '96.012001'}"
     },
     "metadata": {},
     "execution_count": 23
    }
   ],
   "source": [
    "# 获取数据\n",
    "data1 = gdal.Open('/Volumes/Data/RS data/RS 实验/C5图像变换/fft/规则图像.tif')\n",
    "\n",
    "# 获取原数据\n",
    "data1.GetMetadata()\n",
    "\n"
   ]
  }
 ],
 "metadata": {
  "language_info": {
   "codemirror_mode": {
    "name": "ipython",
    "version": 3
   },
   "file_extension": ".py",
   "mimetype": "text/x-python",
   "name": "python",
   "nbconvert_exporter": "python",
   "pygments_lexer": "ipython3",
   "version": "3.7.7-final"
  },
  "orig_nbformat": 2,
  "kernelspec": {
   "name": "spatial",
   "display_name": "spatial"
  }
 },
 "nbformat": 4,
 "nbformat_minor": 2
}