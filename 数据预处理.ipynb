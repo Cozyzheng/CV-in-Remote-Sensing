{
 "metadata": {
  "language_info": {
   "codemirror_mode": {
    "name": "ipython",
    "version": 3
   },
   "file_extension": ".py",
   "mimetype": "text/x-python",
   "name": "python",
   "nbconvert_exporter": "python",
   "pygments_lexer": "ipython3",
   "version": 3
  },
  "orig_nbformat": 2,
  "kernelspec": {
   "name": "python_defaultSpec_1598011058465",
   "display_name": "Python 3.8.3 64-bit (conda)"
  }
 },
 "nbformat": 4,
 "nbformat_minor": 2,
 "cells": [
  {
   "cell_type": "code",
   "execution_count": 6,
   "metadata": {},
   "outputs": [],
   "source": [
    "# 数据预处理\n",
    "import cv2\n",
    "import random\n",
    "import numpy as np \n",
    "import os\n",
    "from tqdm import tqdm \n",
    "\n",
    "# 定义工作路径\n",
    "os.chdir(r\"\")\n",
    "\n",
    "# 获取当前的工作路径\n",
    "print(os.getcwd())\n",
    "\n",
    "# 定义图像的长宽，对应语义分割网络\n",
    "img_w = 256\n",
    "img_h = 256\n",
    "\n",
    "# 准备裁切的大图（这个训练图、以及标签，已经在ArcGIS上标注好了）\n",
    "image_sets = [] # 字符串"
   ]
  },
  {
   "cell_type": "code",
   "execution_count": null,
   "metadata": {},
   "outputs": [],
   "source": [
    "# 定义随机裁切数据集的函数，这里是随机裁切\n",
    "\n",
    "def random_dataset_rgb(image_num = 50000, mode = 'original'):\n",
    "    ```\n",
    "        特别注意，这里使用的OpenCV对于RGB波段图像进行随机裁切，生成训练数据和标签;\n",
    "        mode = 'agument'时，则启动数据增强模式;\n",
    "\n",
    "        by Junyi\n",
    "    ```\n",
    "    print('creating dataset......')\n",
    "    num = len(image_sets)\n",
    "\n",
    "    # 每一个准备好的标签图，需要裁剪多少个\n",
    "    image_each = image_num / num\n",
    "\n",
    "    # 计数,用于文件名称\n",
    "    g_count = 0 \n",
    "\n",
    "    for i in tqdm(range(num)):\n",
    "        # 定义count用于while循环\n",
    "        count = 0\n",
    "\n",
    "        # 读取原图和标签\n",
    "        src_img = cv2.imread('./data/src' + image_sets[i]) # RGB波段\n",
    "        label_img = cv2.imread('./data/label' + image_sets[i], cv2.IMREAD_GRAYSCALE) # 单波段\n",
    "\n",
    "        # 按理说这两个应该是相同shape的图片(由ArcGIS生成)\n",
    "        x_height, x_width, _ = src_img.shape\n",
    "\n",
    "        while count < image_each:\n",
    "            # 开始随机的选区点，开始裁切，裁切的方法很简单，就是numpy的切片\n",
    "            random_width = random.randint(0, x_width - img_w)\n",
    "            random_height =random.randint(0,x_height - img_h)\n",
    "\n",
    "            # 从height开始切，这里注意\n",
    "            src_roi = src_imag[random_height:random_height +img_h, random_width, random_width + img_w]\n",
    "            label_roi = label_imag[random_height:random_height +img_h, random_width, random_width + img_w]\n",
    "            \n",
    "            if mode == 'augment': # 如果模式是增强模式，那么使用数据增强，这里的参数化程序设计非常值得学习\n",
    "                src_roi, label_roi = data_augment(src_roi, label_roi)\n",
    "\n",
    "            cv.imwrite(('./train_src/{}.png'.format(g_count), src)\n",
    "            cv.imwrite(('./train_src/{}.png'.format(g_count), src)\n",
    "\n",
    "            count += 1\n",
    "            g_count += 1\n",
    "\n",
    "\n",
    "\n",
    "\n",
    "\n",
    "\n",
    "\n",
    "\n",
    "\n",
    "\n"
   ]
  },
  {
   "cell_type": "code",
   "execution_count": 21,
   "metadata": {
    "tags": []
   },
   "outputs": [
    {
     "output_type": "stream",
     "name": "stdout",
     "text": "[[1 2 3]\n [4 5 6]]\n"
    },
    {
     "output_type": "execute_result",
     "data": {
      "text/plain": "array([1, 2, 3])"
     },
     "metadata": {},
     "execution_count": 21
    }
   ],
   "source": [
    "a = np.array([[1,2,3],[4,5,6]])\n",
    "print(a)\n",
    "a[0,:]\n"
   ]
  }
 ]
}