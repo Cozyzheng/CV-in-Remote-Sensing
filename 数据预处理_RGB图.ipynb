{
 "metadata": {
  "language_info": {
   "codemirror_mode": {
    "name": "ipython",
    "version": 3
   },
   "file_extension": ".py",
   "mimetype": "text/x-python",
   "name": "python",
   "nbconvert_exporter": "python",
   "pygments_lexer": "ipython3",
   "version": 3
  },
  "orig_nbformat": 2,
  "kernelspec": {
   "name": "python_defaultSpec_1598011058465",
   "display_name": "Python 3.8.3 64-bit (conda)"
  }
 },
 "nbformat": 4,
 "nbformat_minor": 2,
 "cells": [
  {
   "cell_type": "code",
   "execution_count": 3,
   "metadata": {},
   "outputs": [],
   "source": [
    "# 数据预处理\n",
    "import cv2\n",
    "import random\n",
    "import numpy as np \n",
    "import os\n",
    "from tqdm import tqdm \n",
    "\n",
    "\n",
    "# 定义工作路径\n",
    "os.chdir(r\"\")\n",
    "\n",
    "# 获取当前的工作路径\n",
    "print(os.getcwd())\n",
    "\n",
    "# 定义图像的长宽，对应语义分割网络\n",
    "img_w = 256\n",
    "img_w = 256\n",
    "\n",
    "# 准备裁切的大图（这个图已经在ArcGIS上标注好了）\n",
    "image_sets = []\n",
    "\n",
    "# 定义随机裁切数据集的函数，这里是随机裁切\n",
    "def random_dataset(image_num = 50000, mode = 'original'):\n",
    "    print('creating dataset')\n",
    "    num = len(image_sets)\n",
    "\n",
    "    # 每一个准备好的标签图，需要裁剪多少个\n",
    "    image_each = image_num / num\n",
    "    g_count = 0 \n",
    "\n",
    "    for i in tqdm(range(num)):\n",
    "        # 定义count用于while循环\n",
    "        count = 0\n",
    "\n",
    "        # 读取原图和标签\n",
    "        src_img = cv2.imread('./data/src' + image_sets[i])\n",
    "\n"
   ]
  }
 ]
}